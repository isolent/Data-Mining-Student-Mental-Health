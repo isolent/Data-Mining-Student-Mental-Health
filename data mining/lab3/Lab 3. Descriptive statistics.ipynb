{
 "cells": [
  {
   "cell_type": "markdown",
   "metadata": {},
   "source": [
    "# Census Income Data Set "
   ]
  },
  {
   "cell_type": "markdown",
   "metadata": {},
   "source": [
    "Abstract: Predict whether income exceeds $50K/yr based on census data. Also known as \"Adult\" dataset."
   ]
  },
  {
   "cell_type": "code",
   "execution_count": 1,
   "metadata": {
    "ExecuteTime": {
     "end_time": "2020-09-15T12:56:06.520553Z",
     "start_time": "2020-09-15T12:55:53.360801Z"
    }
   },
   "outputs": [],
   "source": [
    "import pandas as pd\n",
    "import numpy as np\n",
    "from tqdm import tqdm_notebook\n",
    "from matplotlib import pyplot as plt\n",
    "from scipy import stats\n",
    "%matplotlib inline"
   ]
  },
  {
   "cell_type": "markdown",
   "metadata": {},
   "source": [
    "# Load the Data"
   ]
  },
  {
   "cell_type": "code",
   "execution_count": 2,
   "metadata": {
    "ExecuteTime": {
     "end_time": "2020-09-15T12:56:06.526554Z",
     "start_time": "2020-09-15T12:56:06.522554Z"
    }
   },
   "outputs": [],
   "source": [
    "col_names=['age',\n",
    "            'workclass',\n",
    "            'fnlwgt',\n",
    "            'education',\n",
    "            'education-num',\n",
    "            'marital-status',\n",
    "            'occupation',\n",
    "            'relationship',\n",
    "            'race',\n",
    "            'sex',\n",
    "            'capital-gain',\n",
    "            'capital-loss',\n",
    "            'hours-per-week',\n",
    "            'native-country',\n",
    "            'inc_class']\n"
   ]
  },
  {
   "cell_type": "code",
   "execution_count": 3,
   "metadata": {
    "ExecuteTime": {
     "end_time": "2020-09-15T12:56:06.921576Z",
     "start_time": "2020-09-15T12:56:06.529554Z"
    }
   },
   "outputs": [
    {
     "name": "stderr",
     "output_type": "stream",
     "text": [
      "C:\\Users\\isa_a\\AppData\\Local\\Temp\\ipykernel_21416\\41874643.py:1: FutureWarning: In a future version of pandas all arguments of read_csv except for the argument 'filepath_or_buffer' will be keyword-only.\n",
      "  ds=pd.read_csv('adult.data', ',', names=col_names, index_col=False)\n"
     ]
    },
    {
     "data": {
      "text/html": [
       "<div>\n",
       "<style scoped>\n",
       "    .dataframe tbody tr th:only-of-type {\n",
       "        vertical-align: middle;\n",
       "    }\n",
       "\n",
       "    .dataframe tbody tr th {\n",
       "        vertical-align: top;\n",
       "    }\n",
       "\n",
       "    .dataframe thead th {\n",
       "        text-align: right;\n",
       "    }\n",
       "</style>\n",
       "<table border=\"1\" class=\"dataframe\">\n",
       "  <thead>\n",
       "    <tr style=\"text-align: right;\">\n",
       "      <th></th>\n",
       "      <th>age</th>\n",
       "      <th>workclass</th>\n",
       "      <th>fnlwgt</th>\n",
       "      <th>education</th>\n",
       "      <th>education-num</th>\n",
       "      <th>marital-status</th>\n",
       "      <th>occupation</th>\n",
       "      <th>relationship</th>\n",
       "      <th>race</th>\n",
       "      <th>sex</th>\n",
       "      <th>capital-gain</th>\n",
       "      <th>capital-loss</th>\n",
       "      <th>hours-per-week</th>\n",
       "      <th>native-country</th>\n",
       "      <th>inc_class</th>\n",
       "    </tr>\n",
       "  </thead>\n",
       "  <tbody>\n",
       "    <tr>\n",
       "      <th>0</th>\n",
       "      <td>39</td>\n",
       "      <td>State-gov</td>\n",
       "      <td>77516</td>\n",
       "      <td>Bachelors</td>\n",
       "      <td>13</td>\n",
       "      <td>Never-married</td>\n",
       "      <td>Adm-clerical</td>\n",
       "      <td>Not-in-family</td>\n",
       "      <td>White</td>\n",
       "      <td>Male</td>\n",
       "      <td>2174</td>\n",
       "      <td>0</td>\n",
       "      <td>40</td>\n",
       "      <td>United-States</td>\n",
       "      <td>&lt;=50K</td>\n",
       "    </tr>\n",
       "    <tr>\n",
       "      <th>1</th>\n",
       "      <td>50</td>\n",
       "      <td>Self-emp-not-inc</td>\n",
       "      <td>83311</td>\n",
       "      <td>Bachelors</td>\n",
       "      <td>13</td>\n",
       "      <td>Married-civ-spouse</td>\n",
       "      <td>Exec-managerial</td>\n",
       "      <td>Husband</td>\n",
       "      <td>White</td>\n",
       "      <td>Male</td>\n",
       "      <td>0</td>\n",
       "      <td>0</td>\n",
       "      <td>13</td>\n",
       "      <td>United-States</td>\n",
       "      <td>&lt;=50K</td>\n",
       "    </tr>\n",
       "    <tr>\n",
       "      <th>2</th>\n",
       "      <td>38</td>\n",
       "      <td>Private</td>\n",
       "      <td>215646</td>\n",
       "      <td>HS-grad</td>\n",
       "      <td>9</td>\n",
       "      <td>Divorced</td>\n",
       "      <td>Handlers-cleaners</td>\n",
       "      <td>Not-in-family</td>\n",
       "      <td>White</td>\n",
       "      <td>Male</td>\n",
       "      <td>0</td>\n",
       "      <td>0</td>\n",
       "      <td>40</td>\n",
       "      <td>United-States</td>\n",
       "      <td>&lt;=50K</td>\n",
       "    </tr>\n",
       "    <tr>\n",
       "      <th>3</th>\n",
       "      <td>53</td>\n",
       "      <td>Private</td>\n",
       "      <td>234721</td>\n",
       "      <td>11th</td>\n",
       "      <td>7</td>\n",
       "      <td>Married-civ-spouse</td>\n",
       "      <td>Handlers-cleaners</td>\n",
       "      <td>Husband</td>\n",
       "      <td>Black</td>\n",
       "      <td>Male</td>\n",
       "      <td>0</td>\n",
       "      <td>0</td>\n",
       "      <td>40</td>\n",
       "      <td>United-States</td>\n",
       "      <td>&lt;=50K</td>\n",
       "    </tr>\n",
       "    <tr>\n",
       "      <th>4</th>\n",
       "      <td>28</td>\n",
       "      <td>Private</td>\n",
       "      <td>338409</td>\n",
       "      <td>Bachelors</td>\n",
       "      <td>13</td>\n",
       "      <td>Married-civ-spouse</td>\n",
       "      <td>Prof-specialty</td>\n",
       "      <td>Wife</td>\n",
       "      <td>Black</td>\n",
       "      <td>Female</td>\n",
       "      <td>0</td>\n",
       "      <td>0</td>\n",
       "      <td>40</td>\n",
       "      <td>Cuba</td>\n",
       "      <td>&lt;=50K</td>\n",
       "    </tr>\n",
       "  </tbody>\n",
       "</table>\n",
       "</div>"
      ],
      "text/plain": [
       "   age          workclass  fnlwgt   education  education-num  \\\n",
       "0   39          State-gov   77516   Bachelors             13   \n",
       "1   50   Self-emp-not-inc   83311   Bachelors             13   \n",
       "2   38            Private  215646     HS-grad              9   \n",
       "3   53            Private  234721        11th              7   \n",
       "4   28            Private  338409   Bachelors             13   \n",
       "\n",
       "        marital-status          occupation    relationship    race      sex  \\\n",
       "0        Never-married        Adm-clerical   Not-in-family   White     Male   \n",
       "1   Married-civ-spouse     Exec-managerial         Husband   White     Male   \n",
       "2             Divorced   Handlers-cleaners   Not-in-family   White     Male   \n",
       "3   Married-civ-spouse   Handlers-cleaners         Husband   Black     Male   \n",
       "4   Married-civ-spouse      Prof-specialty            Wife   Black   Female   \n",
       "\n",
       "   capital-gain  capital-loss  hours-per-week  native-country inc_class  \n",
       "0          2174             0              40   United-States     <=50K  \n",
       "1             0             0              13   United-States     <=50K  \n",
       "2             0             0              40   United-States     <=50K  \n",
       "3             0             0              40   United-States     <=50K  \n",
       "4             0             0              40            Cuba     <=50K  "
      ]
     },
     "execution_count": 3,
     "metadata": {},
     "output_type": "execute_result"
    }
   ],
   "source": [
    "ds=pd.read_csv('adult.data', ',', names=col_names, index_col=False)\n",
    "ds.head()"
   ]
  },
  {
   "cell_type": "code",
   "execution_count": 4,
   "metadata": {
    "ExecuteTime": {
     "end_time": "2020-09-15T12:56:06.930577Z",
     "start_time": "2020-09-15T12:56:06.924577Z"
    }
   },
   "outputs": [
    {
     "data": {
      "text/plain": [
       "(32561, 15)"
      ]
     },
     "execution_count": 4,
     "metadata": {},
     "output_type": "execute_result"
    }
   ],
   "source": [
    "ds.shape"
   ]
  },
  {
   "cell_type": "code",
   "execution_count": null,
   "metadata": {},
   "outputs": [],
   "source": []
  },
  {
   "cell_type": "markdown",
   "metadata": {},
   "source": [
    "# Basics of Data Analytics"
   ]
  },
  {
   "cell_type": "markdown",
   "metadata": {},
   "source": [
    "## Descriptive statistics"
   ]
  },
  {
   "cell_type": "code",
   "execution_count": 5,
   "metadata": {
    "ExecuteTime": {
     "end_time": "2020-09-15T12:56:07.200592Z",
     "start_time": "2020-09-15T12:56:06.932577Z"
    },
    "scrolled": true
   },
   "outputs": [
    {
     "data": {
      "text/html": [
       "<div>\n",
       "<style scoped>\n",
       "    .dataframe tbody tr th:only-of-type {\n",
       "        vertical-align: middle;\n",
       "    }\n",
       "\n",
       "    .dataframe tbody tr th {\n",
       "        vertical-align: top;\n",
       "    }\n",
       "\n",
       "    .dataframe thead th {\n",
       "        text-align: right;\n",
       "    }\n",
       "</style>\n",
       "<table border=\"1\" class=\"dataframe\">\n",
       "  <thead>\n",
       "    <tr style=\"text-align: right;\">\n",
       "      <th></th>\n",
       "      <th>age</th>\n",
       "      <th>fnlwgt</th>\n",
       "      <th>education-num</th>\n",
       "      <th>capital-gain</th>\n",
       "      <th>capital-loss</th>\n",
       "      <th>hours-per-week</th>\n",
       "    </tr>\n",
       "  </thead>\n",
       "  <tbody>\n",
       "    <tr>\n",
       "      <th>count</th>\n",
       "      <td>32561.000000</td>\n",
       "      <td>3.256100e+04</td>\n",
       "      <td>32561.000000</td>\n",
       "      <td>32561.000000</td>\n",
       "      <td>32561.000000</td>\n",
       "      <td>32561.000000</td>\n",
       "    </tr>\n",
       "    <tr>\n",
       "      <th>mean</th>\n",
       "      <td>38.581647</td>\n",
       "      <td>1.897784e+05</td>\n",
       "      <td>10.080679</td>\n",
       "      <td>1077.648844</td>\n",
       "      <td>87.303830</td>\n",
       "      <td>40.437456</td>\n",
       "    </tr>\n",
       "    <tr>\n",
       "      <th>std</th>\n",
       "      <td>13.640433</td>\n",
       "      <td>1.055500e+05</td>\n",
       "      <td>2.572720</td>\n",
       "      <td>7385.292085</td>\n",
       "      <td>402.960219</td>\n",
       "      <td>12.347429</td>\n",
       "    </tr>\n",
       "    <tr>\n",
       "      <th>min</th>\n",
       "      <td>17.000000</td>\n",
       "      <td>1.228500e+04</td>\n",
       "      <td>1.000000</td>\n",
       "      <td>0.000000</td>\n",
       "      <td>0.000000</td>\n",
       "      <td>1.000000</td>\n",
       "    </tr>\n",
       "    <tr>\n",
       "      <th>25%</th>\n",
       "      <td>28.000000</td>\n",
       "      <td>1.178270e+05</td>\n",
       "      <td>9.000000</td>\n",
       "      <td>0.000000</td>\n",
       "      <td>0.000000</td>\n",
       "      <td>40.000000</td>\n",
       "    </tr>\n",
       "    <tr>\n",
       "      <th>50%</th>\n",
       "      <td>37.000000</td>\n",
       "      <td>1.783560e+05</td>\n",
       "      <td>10.000000</td>\n",
       "      <td>0.000000</td>\n",
       "      <td>0.000000</td>\n",
       "      <td>40.000000</td>\n",
       "    </tr>\n",
       "    <tr>\n",
       "      <th>75%</th>\n",
       "      <td>48.000000</td>\n",
       "      <td>2.370510e+05</td>\n",
       "      <td>12.000000</td>\n",
       "      <td>0.000000</td>\n",
       "      <td>0.000000</td>\n",
       "      <td>45.000000</td>\n",
       "    </tr>\n",
       "    <tr>\n",
       "      <th>max</th>\n",
       "      <td>90.000000</td>\n",
       "      <td>1.484705e+06</td>\n",
       "      <td>16.000000</td>\n",
       "      <td>99999.000000</td>\n",
       "      <td>4356.000000</td>\n",
       "      <td>99.000000</td>\n",
       "    </tr>\n",
       "  </tbody>\n",
       "</table>\n",
       "</div>"
      ],
      "text/plain": [
       "                age        fnlwgt  education-num  capital-gain  capital-loss  \\\n",
       "count  32561.000000  3.256100e+04   32561.000000  32561.000000  32561.000000   \n",
       "mean      38.581647  1.897784e+05      10.080679   1077.648844     87.303830   \n",
       "std       13.640433  1.055500e+05       2.572720   7385.292085    402.960219   \n",
       "min       17.000000  1.228500e+04       1.000000      0.000000      0.000000   \n",
       "25%       28.000000  1.178270e+05       9.000000      0.000000      0.000000   \n",
       "50%       37.000000  1.783560e+05      10.000000      0.000000      0.000000   \n",
       "75%       48.000000  2.370510e+05      12.000000      0.000000      0.000000   \n",
       "max       90.000000  1.484705e+06      16.000000  99999.000000   4356.000000   \n",
       "\n",
       "       hours-per-week  \n",
       "count    32561.000000  \n",
       "mean        40.437456  \n",
       "std         12.347429  \n",
       "min          1.000000  \n",
       "25%         40.000000  \n",
       "50%         40.000000  \n",
       "75%         45.000000  \n",
       "max         99.000000  "
      ]
     },
     "execution_count": 5,
     "metadata": {},
     "output_type": "execute_result"
    }
   ],
   "source": [
    "ds.describe()"
   ]
  },
  {
   "cell_type": "code",
   "execution_count": 6,
   "metadata": {
    "ExecuteTime": {
     "end_time": "2020-09-15T12:56:07.302598Z",
     "start_time": "2020-09-15T12:56:07.202592Z"
    }
   },
   "outputs": [
    {
     "data": {
      "text/html": [
       "<div>\n",
       "<style scoped>\n",
       "    .dataframe tbody tr th:only-of-type {\n",
       "        vertical-align: middle;\n",
       "    }\n",
       "\n",
       "    .dataframe tbody tr th {\n",
       "        vertical-align: top;\n",
       "    }\n",
       "\n",
       "    .dataframe thead th {\n",
       "        text-align: right;\n",
       "    }\n",
       "</style>\n",
       "<table border=\"1\" class=\"dataframe\">\n",
       "  <thead>\n",
       "    <tr style=\"text-align: right;\">\n",
       "      <th></th>\n",
       "      <th>workclass</th>\n",
       "      <th>education</th>\n",
       "      <th>marital-status</th>\n",
       "      <th>occupation</th>\n",
       "      <th>relationship</th>\n",
       "      <th>race</th>\n",
       "      <th>sex</th>\n",
       "      <th>native-country</th>\n",
       "      <th>inc_class</th>\n",
       "    </tr>\n",
       "  </thead>\n",
       "  <tbody>\n",
       "    <tr>\n",
       "      <th>count</th>\n",
       "      <td>32561</td>\n",
       "      <td>32561</td>\n",
       "      <td>32561</td>\n",
       "      <td>32561</td>\n",
       "      <td>32561</td>\n",
       "      <td>32561</td>\n",
       "      <td>32561</td>\n",
       "      <td>32561</td>\n",
       "      <td>32561</td>\n",
       "    </tr>\n",
       "    <tr>\n",
       "      <th>unique</th>\n",
       "      <td>9</td>\n",
       "      <td>16</td>\n",
       "      <td>7</td>\n",
       "      <td>15</td>\n",
       "      <td>6</td>\n",
       "      <td>5</td>\n",
       "      <td>2</td>\n",
       "      <td>42</td>\n",
       "      <td>2</td>\n",
       "    </tr>\n",
       "    <tr>\n",
       "      <th>top</th>\n",
       "      <td>Private</td>\n",
       "      <td>HS-grad</td>\n",
       "      <td>Married-civ-spouse</td>\n",
       "      <td>Prof-specialty</td>\n",
       "      <td>Husband</td>\n",
       "      <td>White</td>\n",
       "      <td>Male</td>\n",
       "      <td>United-States</td>\n",
       "      <td>&lt;=50K</td>\n",
       "    </tr>\n",
       "    <tr>\n",
       "      <th>freq</th>\n",
       "      <td>22696</td>\n",
       "      <td>10501</td>\n",
       "      <td>14976</td>\n",
       "      <td>4140</td>\n",
       "      <td>13193</td>\n",
       "      <td>27816</td>\n",
       "      <td>21790</td>\n",
       "      <td>29170</td>\n",
       "      <td>24720</td>\n",
       "    </tr>\n",
       "  </tbody>\n",
       "</table>\n",
       "</div>"
      ],
      "text/plain": [
       "       workclass education       marital-status       occupation relationship  \\\n",
       "count      32561     32561                32561            32561        32561   \n",
       "unique         9        16                    7               15            6   \n",
       "top      Private   HS-grad   Married-civ-spouse   Prof-specialty      Husband   \n",
       "freq       22696     10501                14976             4140        13193   \n",
       "\n",
       "          race    sex  native-country inc_class  \n",
       "count    32561  32561           32561     32561  \n",
       "unique       5      2              42         2  \n",
       "top      White   Male   United-States     <=50K  \n",
       "freq     27816  21790           29170     24720  "
      ]
     },
     "execution_count": 6,
     "metadata": {},
     "output_type": "execute_result"
    }
   ],
   "source": [
    "ds.describe(include='O')"
   ]
  },
  {
   "cell_type": "code",
   "execution_count": 7,
   "metadata": {
    "ExecuteTime": {
     "end_time": "2020-09-15T12:56:07.502610Z",
     "start_time": "2020-09-15T12:56:07.304598Z"
    },
    "scrolled": false
   },
   "outputs": [
    {
     "name": "stderr",
     "output_type": "stream",
     "text": [
      "C:\\Users\\isa_a\\AppData\\Local\\Temp\\ipykernel_21416\\2635724376.py:33: FutureWarning: Unlike other reduction functions (e.g. `skew`, `kurtosis`), the default behavior of `mode` typically preserves the axis it acts along. In SciPy 1.11.0, this behavior will change: the default value of `keepdims` will become False, the `axis` over which the statistic is taken will be eliminated, and the value None will no longer be accepted. Set `keepdims` to True or False to avoid this warning.\n",
      "  p.append(params[s](ds[c]))\n",
      "C:\\Users\\isa_a\\AppData\\Local\\Temp\\ipykernel_21416\\2635724376.py:33: FutureWarning: Unlike other reduction functions (e.g. `skew`, `kurtosis`), the default behavior of `mode` typically preserves the axis it acts along. In SciPy 1.11.0, this behavior will change: the default value of `keepdims` will become False, the `axis` over which the statistic is taken will be eliminated, and the value None will no longer be accepted. Set `keepdims` to True or False to avoid this warning.\n",
      "  p.append(params[s](ds[c]))\n",
      "C:\\Users\\isa_a\\AppData\\Local\\Temp\\ipykernel_21416\\2635724376.py:33: FutureWarning: Unlike other reduction functions (e.g. `skew`, `kurtosis`), the default behavior of `mode` typically preserves the axis it acts along. In SciPy 1.11.0, this behavior will change: the default value of `keepdims` will become False, the `axis` over which the statistic is taken will be eliminated, and the value None will no longer be accepted. Set `keepdims` to True or False to avoid this warning.\n",
      "  p.append(params[s](ds[c]))\n",
      "C:\\Users\\isa_a\\AppData\\Local\\Temp\\ipykernel_21416\\2635724376.py:33: FutureWarning: Unlike other reduction functions (e.g. `skew`, `kurtosis`), the default behavior of `mode` typically preserves the axis it acts along. In SciPy 1.11.0, this behavior will change: the default value of `keepdims` will become False, the `axis` over which the statistic is taken will be eliminated, and the value None will no longer be accepted. Set `keepdims` to True or False to avoid this warning.\n",
      "  p.append(params[s](ds[c]))\n",
      "C:\\Users\\isa_a\\AppData\\Local\\Temp\\ipykernel_21416\\2635724376.py:33: FutureWarning: Unlike other reduction functions (e.g. `skew`, `kurtosis`), the default behavior of `mode` typically preserves the axis it acts along. In SciPy 1.11.0, this behavior will change: the default value of `keepdims` will become False, the `axis` over which the statistic is taken will be eliminated, and the value None will no longer be accepted. Set `keepdims` to True or False to avoid this warning.\n",
      "  p.append(params[s](ds[c]))\n",
      "C:\\Users\\isa_a\\AppData\\Local\\Temp\\ipykernel_21416\\2635724376.py:33: FutureWarning: Unlike other reduction functions (e.g. `skew`, `kurtosis`), the default behavior of `mode` typically preserves the axis it acts along. In SciPy 1.11.0, this behavior will change: the default value of `keepdims` will become False, the `axis` over which the statistic is taken will be eliminated, and the value None will no longer be accepted. Set `keepdims` to True or False to avoid this warning.\n",
      "  p.append(params[s](ds[c]))\n"
     ]
    },
    {
     "data": {
      "text/html": [
       "<div>\n",
       "<style scoped>\n",
       "    .dataframe tbody tr th:only-of-type {\n",
       "        vertical-align: middle;\n",
       "    }\n",
       "\n",
       "    .dataframe tbody tr th {\n",
       "        vertical-align: top;\n",
       "    }\n",
       "\n",
       "    .dataframe thead th {\n",
       "        text-align: right;\n",
       "    }\n",
       "</style>\n",
       "<table border=\"1\" class=\"dataframe\">\n",
       "  <thead>\n",
       "    <tr style=\"text-align: right;\">\n",
       "      <th></th>\n",
       "      <th>Parameters</th>\n",
       "      <th>age</th>\n",
       "      <th>fnlwgt</th>\n",
       "      <th>education-num</th>\n",
       "      <th>capital-gain</th>\n",
       "      <th>capital-loss</th>\n",
       "      <th>hours-per-week</th>\n",
       "    </tr>\n",
       "  </thead>\n",
       "  <tbody>\n",
       "    <tr>\n",
       "      <th>0</th>\n",
       "      <td>Mean</td>\n",
       "      <td>38.581647</td>\n",
       "      <td>189778.366512</td>\n",
       "      <td>10.080679</td>\n",
       "      <td>1077.648844</td>\n",
       "      <td>87.30383</td>\n",
       "      <td>40.437456</td>\n",
       "    </tr>\n",
       "    <tr>\n",
       "      <th>1</th>\n",
       "      <td>Median</td>\n",
       "      <td>37.0</td>\n",
       "      <td>178356.0</td>\n",
       "      <td>10.0</td>\n",
       "      <td>0.0</td>\n",
       "      <td>0.0</td>\n",
       "      <td>40.0</td>\n",
       "    </tr>\n",
       "    <tr>\n",
       "      <th>2</th>\n",
       "      <td>Mode</td>\n",
       "      <td>([36], [898])</td>\n",
       "      <td>([123011], [13])</td>\n",
       "      <td>([9], [10501])</td>\n",
       "      <td>([0], [29849])</td>\n",
       "      <td>([0], [31042])</td>\n",
       "      <td>([40], [15217])</td>\n",
       "    </tr>\n",
       "    <tr>\n",
       "      <th>3</th>\n",
       "      <td>Standard error</td>\n",
       "      <td>0.075593</td>\n",
       "      <td>584.93725</td>\n",
       "      <td>0.014258</td>\n",
       "      <td>40.927838</td>\n",
       "      <td>2.233126</td>\n",
       "      <td>0.068427</td>\n",
       "    </tr>\n",
       "    <tr>\n",
       "      <th>4</th>\n",
       "      <td>Standard deviation</td>\n",
       "      <td>13.640223</td>\n",
       "      <td>105548.356881</td>\n",
       "      <td>2.572681</td>\n",
       "      <td>7385.178677</td>\n",
       "      <td>402.954031</td>\n",
       "      <td>12.347239</td>\n",
       "    </tr>\n",
       "    <tr>\n",
       "      <th>5</th>\n",
       "      <td>Variance</td>\n",
       "      <td>186.055686</td>\n",
       "      <td>11140455640.255911</td>\n",
       "      <td>6.618687</td>\n",
       "      <td>54540864.090427</td>\n",
       "      <td>162371.95096</td>\n",
       "      <td>152.454313</td>\n",
       "    </tr>\n",
       "    <tr>\n",
       "      <th>6</th>\n",
       "      <td>Coefficient of variation</td>\n",
       "      <td>0.353542</td>\n",
       "      <td>0.556166</td>\n",
       "      <td>0.255209</td>\n",
       "      <td>6.853047</td>\n",
       "      <td>4.615537</td>\n",
       "      <td>0.305342</td>\n",
       "    </tr>\n",
       "    <tr>\n",
       "      <th>7</th>\n",
       "      <td>Skewness</td>\n",
       "      <td>0.558718</td>\n",
       "      <td>1.446913</td>\n",
       "      <td>-0.311662</td>\n",
       "      <td>11.953297</td>\n",
       "      <td>4.594417</td>\n",
       "      <td>0.227632</td>\n",
       "    </tr>\n",
       "    <tr>\n",
       "      <th>8</th>\n",
       "      <td>Kurtosis</td>\n",
       "      <td>-0.166286</td>\n",
       "      <td>6.217672</td>\n",
       "      <td>0.623164</td>\n",
       "      <td>154.775484</td>\n",
       "      <td>20.373489</td>\n",
       "      <td>2.916055</td>\n",
       "    </tr>\n",
       "    <tr>\n",
       "      <th>9</th>\n",
       "      <td>Min</td>\n",
       "      <td>17</td>\n",
       "      <td>12285</td>\n",
       "      <td>1</td>\n",
       "      <td>0</td>\n",
       "      <td>0</td>\n",
       "      <td>1</td>\n",
       "    </tr>\n",
       "    <tr>\n",
       "      <th>10</th>\n",
       "      <td>Max</td>\n",
       "      <td>90</td>\n",
       "      <td>1484705</td>\n",
       "      <td>16</td>\n",
       "      <td>99999</td>\n",
       "      <td>4356</td>\n",
       "      <td>99</td>\n",
       "    </tr>\n",
       "    <tr>\n",
       "      <th>11</th>\n",
       "      <td>Range</td>\n",
       "      <td>73</td>\n",
       "      <td>1472420</td>\n",
       "      <td>15</td>\n",
       "      <td>99999</td>\n",
       "      <td>4356</td>\n",
       "      <td>98</td>\n",
       "    </tr>\n",
       "    <tr>\n",
       "      <th>12</th>\n",
       "      <td>Sum</td>\n",
       "      <td>1256257</td>\n",
       "      <td>6179373392</td>\n",
       "      <td>328237</td>\n",
       "      <td>35089324</td>\n",
       "      <td>2842700</td>\n",
       "      <td>1316684</td>\n",
       "    </tr>\n",
       "    <tr>\n",
       "      <th>13</th>\n",
       "      <td>Count</td>\n",
       "      <td>32561</td>\n",
       "      <td>32561</td>\n",
       "      <td>32561</td>\n",
       "      <td>32561</td>\n",
       "      <td>32561</td>\n",
       "      <td>32561</td>\n",
       "    </tr>\n",
       "  </tbody>\n",
       "</table>\n",
       "</div>"
      ],
      "text/plain": [
       "                  Parameters            age              fnlwgt  \\\n",
       "0                       Mean      38.581647       189778.366512   \n",
       "1                     Median           37.0            178356.0   \n",
       "2                       Mode  ([36], [898])    ([123011], [13])   \n",
       "3             Standard error       0.075593           584.93725   \n",
       "4         Standard deviation      13.640223       105548.356881   \n",
       "5                   Variance     186.055686  11140455640.255911   \n",
       "6   Coefficient of variation       0.353542            0.556166   \n",
       "7                   Skewness       0.558718            1.446913   \n",
       "8                   Kurtosis      -0.166286            6.217672   \n",
       "9                        Min             17               12285   \n",
       "10                       Max             90             1484705   \n",
       "11                     Range             73             1472420   \n",
       "12                       Sum        1256257          6179373392   \n",
       "13                     Count          32561               32561   \n",
       "\n",
       "     education-num     capital-gain    capital-loss   hours-per-week  \n",
       "0        10.080679      1077.648844        87.30383        40.437456  \n",
       "1             10.0              0.0             0.0             40.0  \n",
       "2   ([9], [10501])   ([0], [29849])  ([0], [31042])  ([40], [15217])  \n",
       "3         0.014258        40.927838        2.233126         0.068427  \n",
       "4         2.572681      7385.178677      402.954031        12.347239  \n",
       "5         6.618687  54540864.090427    162371.95096       152.454313  \n",
       "6         0.255209         6.853047        4.615537         0.305342  \n",
       "7        -0.311662        11.953297        4.594417         0.227632  \n",
       "8         0.623164       154.775484       20.373489         2.916055  \n",
       "9                1                0               0                1  \n",
       "10              16            99999            4356               99  \n",
       "11              15            99999            4356               98  \n",
       "12          328237         35089324         2842700          1316684  \n",
       "13           32561            32561           32561            32561  "
      ]
     },
     "execution_count": 7,
     "metadata": {},
     "output_type": "execute_result"
    }
   ],
   "source": [
    "def cv(series):\n",
    "    return np.std(series)/np.mean(series)\n",
    "    \n",
    "def desc(ds):\n",
    "    #fill NAs with 0\n",
    "    ds.fillna(0)\n",
    "    \n",
    "    #create data frame for output\n",
    "    stat_ds=pd.DataFrame()\n",
    "    \n",
    "    #calculated parameters\n",
    "    params={'Mean':np.mean,\n",
    "            'Median':np.median,\n",
    "            'Mode': stats.mode,#returns mode value and count\n",
    "           'Standard error': stats.sem,\n",
    "            'Standard deviation':np.std,\n",
    "            'Variance':np.var,\n",
    "            'Coefficient of variation':cv,\n",
    "            'Skewness':stats.skew,\n",
    "            'Kurtosis':stats.kurtosis,\n",
    "            'Min':np.min,\n",
    "            'Max':np.max,\n",
    "            'Range':np.ptp,\n",
    "            'Sum':np.sum,\n",
    "            'Count':len,\n",
    "           }\n",
    "    stat_ds['Parameters']=params.keys()\n",
    "    \n",
    "    for c in ds.columns:\n",
    "        if ds[c].dtype!='object':\n",
    "            p=[]\n",
    "            for s in params.keys():\n",
    "                p.append(params[s](ds[c]))\n",
    "            stat_ds[c]=p\n",
    "    return stat_ds\n",
    "desc(ds)            "
   ]
  },
  {
   "cell_type": "code",
   "execution_count": 9,
   "metadata": {},
   "outputs": [
    {
     "data": {
      "text/plain": [
       "0.07559143734584034"
      ]
     },
     "execution_count": 9,
     "metadata": {},
     "output_type": "execute_result"
    }
   ],
   "source": [
    "13.640223/(32561**(0.5))"
   ]
  },
  {
   "cell_type": "code",
   "execution_count": 10,
   "metadata": {},
   "outputs": [
    {
     "data": {
      "text/plain": [
       "186.055683489729"
      ]
     },
     "execution_count": 10,
     "metadata": {},
     "output_type": "execute_result"
    }
   ],
   "source": [
    "13.640223**2"
   ]
  },
  {
   "cell_type": "code",
   "execution_count": 8,
   "metadata": {
    "ExecuteTime": {
     "end_time": "2020-09-15T12:56:08.284654Z",
     "start_time": "2020-09-15T12:56:07.506610Z"
    }
   },
   "outputs": [
    {
     "data": {
      "text/plain": [
       "<matplotlib.axes._subplots.AxesSubplot at 0xacbb288>"
      ]
     },
     "execution_count": 8,
     "metadata": {},
     "output_type": "execute_result"
    },
    {
     "data": {
      "image/png": "[encoded data removed]",
      "text/plain": [
       "<Figure size 432x288 with 1 Axes>"
      ]
     },
     "metadata": {
      "needs_background": "light"
     },
     "output_type": "display_data"
    }
   ],
   "source": [
    "ds.age.hist()"
   ]
  },
  {
   "cell_type": "code",
   "execution_count": 9,
   "metadata": {
    "ExecuteTime": {
     "end_time": "2020-09-15T12:56:08.488666Z",
     "start_time": "2020-09-15T12:56:08.287655Z"
    }
   },
   "outputs": [
    {
     "data": {
      "text/plain": [
       "<matplotlib.axes._subplots.AxesSubplot at 0xadf3508>"
      ]
     },
     "execution_count": 9,
     "metadata": {},
     "output_type": "execute_result"
    },
    {
     "data": {
      "image/png": "[encoded data removed]",
      "text/plain": [
       "<Figure size 432x288 with 1 Axes>"
      ]
     },
     "metadata": {
      "needs_background": "light"
     },
     "output_type": "display_data"
    }
   ],
   "source": [
    "ds['capital-gain'].hist()"
   ]
  },
  {
   "cell_type": "code",
   "execution_count": 10,
   "metadata": {
    "ExecuteTime": {
     "end_time": "2020-09-15T12:56:08.714679Z",
     "start_time": "2020-09-15T12:56:08.490666Z"
    }
   },
   "outputs": [
    {
     "data": {
      "text/plain": [
       "<matplotlib.axes._subplots.AxesSubplot at 0xaed3a48>"
      ]
     },
     "execution_count": 10,
     "metadata": {},
     "output_type": "execute_result"
    },
    {
     "data": {
      "image/png": "[encoded data removed]",
      "text/plain": [
       "<Figure size 432x288 with 1 Axes>"
      ]
     },
     "metadata": {
      "needs_background": "light"
     },
     "output_type": "display_data"
    }
   ],
   "source": [
    "ds.fnlwgt.hist()"
   ]
  },
  {
   "cell_type": "markdown",
   "metadata": {
    "ExecuteTime": {
     "end_time": "2019-10-01T16:00:24.225132Z",
     "start_time": "2019-10-01T16:00:24.220132Z"
    }
   },
   "source": [
    "# Statistics description\n",
    "## Measures of Central Tendency\n",
    "### Mean\n",
    "The mean is calculated as\n",
    "\\begin{align*}\n",
    "\\mu = \\dfrac{\\sum_{i=1}^{N} x_i}{N}\n",
    "\\end{align*} \n",
    "### Median\n",
    "The median value is the middlemost value, you take the value in the position of\n",
    "\\begin{align*}\n",
    "\\dfrac{n+1}{2}\n",
    "\\end{align*} \n",
    "of the sorted data.\n",
    "\n",
    "### Mode\n",
    "The mode is the most frequent value.\n",
    "\n",
    "## Standard error\n",
    "The standard error of the mean (SE of the mean) estimates the variability between sample means that you would obtain if you took multiple samples from the same population. The standard error of the mean estimates the variability between samples whereas the standard deviation measures the variability within a single sample.\n",
    "\n",
    "It is calculated as:\n",
    "\\begin{align*}\n",
    "SE = \\dfrac{s}{\\sqrt{n}}\n",
    "\\end{align*}\n",
    "Where s is the sample standard deviation. \n",
    "\n",
    "## Standard deviation\n",
    "The variance can get very large for large data sets and so we will often use the standard deviation, which is the square root of the variance:\n",
    "\\begin{align*}\n",
    "\\sigma = \\sqrt{\\sigma^2}\n",
    "\\end{align*}\n",
    "68.2% of the data falls within 1 standard deviation of the mean, 95.4% falls within 2 standard deviations of the mean, and 99.7% falls within 3 standard deviations.\n",
    "\n",
    "## Variance\n",
    "Variance is a measure of how variable the data is, it is calculated as:\n",
    "\\begin{align*}\n",
    "\\sigma^2 = \\dfrac{\\sum_{i=1}^{N} (x_i – \\mu)^2}{N}\n",
    "\\end{align*}\n",
    "\n",
    "## Coefficient of variation\n",
    "The coefficient of variation (CV) is defined as the ratio of the standard deviation to the mean. It shows the extent of variability in relation to the mean of the population. \n",
    "\\begin{align*}\n",
    "cv=\\sigma/\\mu\n",
    "\\end{align*}\n",
    "\n",
    "## Skewness\n",
    "In probability theory and statistics, skewness is a measure of the asymmetry of the probability distribution of a real-valued random variable about its mean. The skewness value can be positive or negative, or undefined.\n",
    "\n",
    "## Kurtosis\n",
    "In probability theory and statistics, kurtosis (from Greek: κυρτός, kyrtos or kurtos, meaning \"curved, arching\") is a measure of the \"tailedness\" of the probability distribution of a real-valued random variable.\n",
    "\n",
    "## Min\n",
    "Minimum value\n",
    "\n",
    "## Max\t\n",
    "Maximum value\n",
    "\n",
    "## Range\n",
    "The range gives a measure of how spread apart the values are.\n",
    "\n",
    "The range is simply calculated as the maximum value – minimum value\n",
    "\\begin{align*}\n",
    "Max(xi)–Min(xi)\n",
    "\\end{align*}\n",
    "\n",
    "\n",
    "## Sum\n",
    "Simply sum of all values\n",
    "\n",
    "## Count\t\n",
    "Number of values processed\n",
    "\n",
    "*Sources:*\n",
    "http://benalexkeen.com/basic-statistics-in-python/\n",
    "https://en.wikipedia.org/wiki/Kurtosis\n",
    "https://en.wikipedia.org/wiki/Skewness"
   ]
  },
  {
   "cell_type": "markdown",
   "metadata": {},
   "source": [
    "# Correlation analysis"
   ]
  },
  {
   "cell_type": "code",
   "execution_count": 11,
   "metadata": {
    "ExecuteTime": {
     "end_time": "2020-09-15T12:56:08.752681Z",
     "start_time": "2020-09-15T12:56:08.716679Z"
    }
   },
   "outputs": [
    {
     "data": {
      "text/html": [
       "<div>\n",
       "<style scoped>\n",
       "    .dataframe tbody tr th:only-of-type {\n",
       "        vertical-align: middle;\n",
       "    }\n",
       "\n",
       "    .dataframe tbody tr th {\n",
       "        vertical-align: top;\n",
       "    }\n",
       "\n",
       "    .dataframe thead th {\n",
       "        text-align: right;\n",
       "    }\n",
       "</style>\n",
       "<table border=\"1\" class=\"dataframe\">\n",
       "  <thead>\n",
       "    <tr style=\"text-align: right;\">\n",
       "      <th></th>\n",
       "      <th>age</th>\n",
       "      <th>fnlwgt</th>\n",
       "      <th>education-num</th>\n",
       "      <th>capital-gain</th>\n",
       "      <th>capital-loss</th>\n",
       "      <th>hours-per-week</th>\n",
       "    </tr>\n",
       "  </thead>\n",
       "  <tbody>\n",
       "    <tr>\n",
       "      <th>age</th>\n",
       "      <td>1.000000</td>\n",
       "      <td>-0.076646</td>\n",
       "      <td>0.036527</td>\n",
       "      <td>0.077674</td>\n",
       "      <td>0.057775</td>\n",
       "      <td>0.068756</td>\n",
       "    </tr>\n",
       "    <tr>\n",
       "      <th>fnlwgt</th>\n",
       "      <td>-0.076646</td>\n",
       "      <td>1.000000</td>\n",
       "      <td>-0.043195</td>\n",
       "      <td>0.000432</td>\n",
       "      <td>-0.010252</td>\n",
       "      <td>-0.018768</td>\n",
       "    </tr>\n",
       "    <tr>\n",
       "      <th>education-num</th>\n",
       "      <td>0.036527</td>\n",
       "      <td>-0.043195</td>\n",
       "      <td>1.000000</td>\n",
       "      <td>0.122630</td>\n",
       "      <td>0.079923</td>\n",
       "      <td>0.148123</td>\n",
       "    </tr>\n",
       "    <tr>\n",
       "      <th>capital-gain</th>\n",
       "      <td>0.077674</td>\n",
       "      <td>0.000432</td>\n",
       "      <td>0.122630</td>\n",
       "      <td>1.000000</td>\n",
       "      <td>-0.031615</td>\n",
       "      <td>0.078409</td>\n",
       "    </tr>\n",
       "    <tr>\n",
       "      <th>capital-loss</th>\n",
       "      <td>0.057775</td>\n",
       "      <td>-0.010252</td>\n",
       "      <td>0.079923</td>\n",
       "      <td>-0.031615</td>\n",
       "      <td>1.000000</td>\n",
       "      <td>0.054256</td>\n",
       "    </tr>\n",
       "    <tr>\n",
       "      <th>hours-per-week</th>\n",
       "      <td>0.068756</td>\n",
       "      <td>-0.018768</td>\n",
       "      <td>0.148123</td>\n",
       "      <td>0.078409</td>\n",
       "      <td>0.054256</td>\n",
       "      <td>1.000000</td>\n",
       "    </tr>\n",
       "  </tbody>\n",
       "</table>\n",
       "</div>"
      ],
      "text/plain": [
       "                     age    fnlwgt  education-num  capital-gain  capital-loss  \\\n",
       "age             1.000000 -0.076646       0.036527      0.077674      0.057775   \n",
       "fnlwgt         -0.076646  1.000000      -0.043195      0.000432     -0.010252   \n",
       "education-num   0.036527 -0.043195       1.000000      0.122630      0.079923   \n",
       "capital-gain    0.077674  0.000432       0.122630      1.000000     -0.031615   \n",
       "capital-loss    0.057775 -0.010252       0.079923     -0.031615      1.000000   \n",
       "hours-per-week  0.068756 -0.018768       0.148123      0.078409      0.054256   \n",
       "\n",
       "                hours-per-week  \n",
       "age                   0.068756  \n",
       "fnlwgt               -0.018768  \n",
       "education-num         0.148123  \n",
       "capital-gain          0.078409  \n",
       "capital-loss          0.054256  \n",
       "hours-per-week        1.000000  "
      ]
     },
     "execution_count": 11,
     "metadata": {},
     "output_type": "execute_result"
    }
   ],
   "source": [
    "ds.corr()"
   ]
  },
  {
   "cell_type": "code",
   "execution_count": 12,
   "metadata": {
    "ExecuteTime": {
     "end_time": "2020-09-15T12:56:13.461950Z",
     "start_time": "2020-09-15T12:56:08.754681Z"
    }
   },
   "outputs": [
    {
     "data": {
      "text/plain": [
       "<matplotlib.axes._subplots.AxesSubplot at 0xb592788>"
      ]
     },
     "execution_count": 12,
     "metadata": {},
     "output_type": "execute_result"
    },
    {
     "data": {
      "image/png": "[encoded data removed]",
      "text/plain": [
       "<Figure size 432x288 with 2 Axes>"
      ]
     },
     "metadata": {
      "needs_background": "light"
     },
     "output_type": "display_data"
    }
   ],
   "source": [
    "import seaborn as sns\n",
    "corr=ds.corr()\n",
    "sns.heatmap(corr, xticklabels=corr.columns, yticklabels=corr.columns, cmap=sns.diverging_palette(220, 10, as_cmap=True))"
   ]
  },
  {
   "cell_type": "code",
   "execution_count": 13,
   "metadata": {
    "ExecuteTime": {
     "end_time": "2020-09-15T12:56:14.051984Z",
     "start_time": "2020-09-15T12:56:13.463951Z"
    }
   },
   "outputs": [
    {
     "data": {
      "text/plain": [
       "<matplotlib.axes._subplots.AxesSubplot at 0xb80ff48>"
      ]
     },
     "execution_count": 13,
     "metadata": {},
     "output_type": "execute_result"
    },
    {
     "data": {
      "image/png": "[encoded data removed]",
      "text/plain": [
       "<Figure size 432x288 with 1 Axes>"
      ]
     },
     "metadata": {
      "needs_background": "light"
     },
     "output_type": "display_data"
    }
   ],
   "source": [
    "ds.plot(x='hours-per-week',y='education-num', kind='scatter')"
   ]
  },
  {
   "cell_type": "code",
   "execution_count": 14,
   "metadata": {
    "ExecuteTime": {
     "end_time": "2020-09-15T12:56:14.545012Z",
     "start_time": "2020-09-15T12:56:14.053984Z"
    }
   },
   "outputs": [
    {
     "data": {
      "text/plain": [
       "<matplotlib.collections.PathCollection at 0xb8f5e48>"
      ]
     },
     "execution_count": 14,
     "metadata": {},
     "output_type": "execute_result"
    },
    {
     "data": {
      "image/png": "[encoded data removed]",
      "text/plain": [
       "<Figure size 432x288 with 1 Axes>"
      ]
     },
     "metadata": {
      "needs_background": "light"
     },
     "output_type": "display_data"
    }
   ],
   "source": [
    "plt.scatter(np.log(ds['hours-per-week']+1), np.log(ds['education-num']+1))"
   ]
  },
  {
   "cell_type": "markdown",
   "metadata": {},
   "source": [
    "# Regression analysis"
   ]
  },
  {
   "cell_type": "code",
   "execution_count": 15,
   "metadata": {
    "ExecuteTime": {
     "end_time": "2020-09-15T12:56:17.052156Z",
     "start_time": "2020-09-15T12:56:14.547013Z"
    }
   },
   "outputs": [],
   "source": [
    "from sklearn.linear_model import LinearRegression"
   ]
  },
  {
   "cell_type": "code",
   "execution_count": 16,
   "metadata": {
    "ExecuteTime": {
     "end_time": "2020-09-15T12:56:17.103159Z",
     "start_time": "2020-09-15T12:56:17.054156Z"
    }
   },
   "outputs": [],
   "source": [
    "num_cols=ds.dtypes[ds.dtypes!='object'].index"
   ]
  },
  {
   "cell_type": "code",
   "execution_count": 17,
   "metadata": {
    "ExecuteTime": {
     "end_time": "2020-09-15T12:56:18.007210Z",
     "start_time": "2020-09-15T12:56:17.105159Z"
    }
   },
   "outputs": [
    {
     "name": "stdout",
     "output_type": "stream",
     "text": [
      "age age 1.0\n",
      "age fnlwgt 0.005874589062318081\n",
      "age education-num 0.0013342355701466688\n",
      "age capital-gain 0.006033327665338484\n",
      "age capital-loss 0.003337897412008184\n",
      "age hours-per-week 0.004727347315139907\n",
      "fnlwgt age 0.005874589062318192\n",
      "fnlwgt fnlwgt 1.0\n",
      "fnlwgt education-num 0.0018657762969407354\n",
      "fnlwgt capital-gain 1.8652533684271333e-07\n",
      "fnlwgt capital-loss 0.00010509759227461667\n",
      "fnlwgt hours-per-week 0.00035225623980572607\n",
      "education-num age 0.001334235570146669\n",
      "education-num fnlwgt 0.0018657762969406244\n",
      "education-num education-num 1.0\n",
      "education-num capital-gain 0.015038145029427463\n",
      "education-num capital-loss 0.006387679005536162\n",
      "education-num hours-per-week 0.021940343919678695\n",
      "capital-gain age 0.006033327665339039\n",
      "capital-gain fnlwgt 1.8652533695373563e-07\n",
      "capital-gain education-num 0.015038145029427796\n",
      "capital-gain capital-gain 1.0\n",
      "capital-gain capital-loss 0.0009995122054740069\n",
      "capital-gain hours-per-week 0.006147910967398418\n",
      "capital-loss age 0.0033378974120075173\n",
      "capital-loss fnlwgt 0.00010509759227406157\n",
      "capital-loss education-num 0.006387679005535829\n",
      "capital-loss capital-gain 0.0009995122054728967\n",
      "capital-loss capital-loss 1.0\n",
      "capital-loss hours-per-week 0.002943752847061165\n",
      "hours-per-week age 0.004727347315139796\n",
      "hours-per-week fnlwgt 0.000352256239805393\n",
      "hours-per-week education-num 0.021940343919678584\n",
      "hours-per-week capital-gain 0.006147910967397419\n",
      "hours-per-week capital-loss 0.0029437528470617202\n",
      "hours-per-week hours-per-week 1.0\n"
     ]
    }
   ],
   "source": [
    "for i in range(len(num_cols)):\n",
    "    for j in range(len(num_cols)):\n",
    "        x=np.array(ds[num_cols[i]]).reshape(-1, 1)\n",
    "        y=np.array(ds[num_cols[j]])\n",
    "        lm=LinearRegression().fit(x,y)\n",
    "        print(num_cols[i],num_cols[j],lm.score(x,y))"
   ]
  },
  {
   "cell_type": "code",
   "execution_count": 18,
   "metadata": {
    "ExecuteTime": {
     "end_time": "2020-09-15T12:56:18.027212Z",
     "start_time": "2020-09-15T12:56:18.010211Z"
    },
    "scrolled": true
   },
   "outputs": [
    {
     "name": "stdout",
     "output_type": "stream",
     "text": [
      "0        39\n",
      "1        50\n",
      "2        38\n",
      "3        53\n",
      "4        28\n",
      "         ..\n",
      "32556    27\n",
      "32557    40\n",
      "32558    58\n",
      "32559    22\n",
      "32560    52\n",
      "Name: age, Length: 32561, dtype: int64\n",
      "0         77516\n",
      "1         83311\n",
      "2        215646\n",
      "3        234721\n",
      "4        338409\n",
      "          ...  \n",
      "32556    257302\n",
      "32557    154374\n",
      "32558    151910\n",
      "32559    201490\n",
      "32560    287927\n",
      "Name: fnlwgt, Length: 32561, dtype: int64\n",
      "0        13\n",
      "1        13\n",
      "2         9\n",
      "3         7\n",
      "4        13\n",
      "         ..\n",
      "32556    12\n",
      "32557     9\n",
      "32558     9\n",
      "32559     9\n",
      "32560     9\n",
      "Name: education-num, Length: 32561, dtype: int64\n",
      "0         2174\n",
      "1            0\n",
      "2            0\n",
      "3            0\n",
      "4            0\n",
      "         ...  \n",
      "32556        0\n",
      "32557        0\n",
      "32558        0\n",
      "32559        0\n",
      "32560    15024\n",
      "Name: capital-gain, Length: 32561, dtype: int64\n",
      "0        0\n",
      "1        0\n",
      "2        0\n",
      "3        0\n",
      "4        0\n",
      "        ..\n",
      "32556    0\n",
      "32557    0\n",
      "32558    0\n",
      "32559    0\n",
      "32560    0\n",
      "Name: capital-loss, Length: 32561, dtype: int64\n",
      "0        40\n",
      "1        13\n",
      "2        40\n",
      "3        40\n",
      "4        40\n",
      "         ..\n",
      "32556    38\n",
      "32557    40\n",
      "32558    40\n",
      "32559    20\n",
      "32560    40\n",
      "Name: hours-per-week, Length: 32561, dtype: int64\n"
     ]
    }
   ],
   "source": [
    "for y in ds[num_cols]:\n",
    "    print(ds[y])"
   ]
  },
  {
   "cell_type": "code",
   "execution_count": 19,
   "metadata": {
    "ExecuteTime": {
     "end_time": "2020-09-15T12:56:18.312228Z",
     "start_time": "2020-09-15T12:56:18.030212Z"
    }
   },
   "outputs": [
    {
     "data": {
      "text/html": [
       "<div>\n",
       "<style scoped>\n",
       "    .dataframe tbody tr th:only-of-type {\n",
       "        vertical-align: middle;\n",
       "    }\n",
       "\n",
       "    .dataframe tbody tr th {\n",
       "        vertical-align: top;\n",
       "    }\n",
       "\n",
       "    .dataframe thead th {\n",
       "        text-align: right;\n",
       "    }\n",
       "</style>\n",
       "<table border=\"1\" class=\"dataframe\">\n",
       "  <thead>\n",
       "    <tr style=\"text-align: right;\">\n",
       "      <th></th>\n",
       "      <th>age</th>\n",
       "      <th>fnlwgt</th>\n",
       "      <th>education-num</th>\n",
       "      <th>capital-gain</th>\n",
       "      <th>capital-loss</th>\n",
       "      <th>hours-per-week</th>\n",
       "    </tr>\n",
       "  </thead>\n",
       "  <tbody>\n",
       "    <tr>\n",
       "      <th>age</th>\n",
       "      <td>1.000000</td>\n",
       "      <td>5.874589e-03</td>\n",
       "      <td>0.001334</td>\n",
       "      <td>6.033328e-03</td>\n",
       "      <td>0.003338</td>\n",
       "      <td>0.004727</td>\n",
       "    </tr>\n",
       "    <tr>\n",
       "      <th>fnlwgt</th>\n",
       "      <td>0.005875</td>\n",
       "      <td>1.000000e+00</td>\n",
       "      <td>0.001866</td>\n",
       "      <td>1.865253e-07</td>\n",
       "      <td>0.000105</td>\n",
       "      <td>0.000352</td>\n",
       "    </tr>\n",
       "    <tr>\n",
       "      <th>education-num</th>\n",
       "      <td>0.001334</td>\n",
       "      <td>1.865776e-03</td>\n",
       "      <td>1.000000</td>\n",
       "      <td>1.503815e-02</td>\n",
       "      <td>0.006388</td>\n",
       "      <td>0.021940</td>\n",
       "    </tr>\n",
       "    <tr>\n",
       "      <th>capital-gain</th>\n",
       "      <td>0.006033</td>\n",
       "      <td>1.865253e-07</td>\n",
       "      <td>0.015038</td>\n",
       "      <td>1.000000e+00</td>\n",
       "      <td>0.001000</td>\n",
       "      <td>0.006148</td>\n",
       "    </tr>\n",
       "    <tr>\n",
       "      <th>capital-loss</th>\n",
       "      <td>0.003338</td>\n",
       "      <td>1.050976e-04</td>\n",
       "      <td>0.006388</td>\n",
       "      <td>9.995122e-04</td>\n",
       "      <td>1.000000</td>\n",
       "      <td>0.002944</td>\n",
       "    </tr>\n",
       "    <tr>\n",
       "      <th>hours-per-week</th>\n",
       "      <td>0.004727</td>\n",
       "      <td>3.522562e-04</td>\n",
       "      <td>0.021940</td>\n",
       "      <td>6.147911e-03</td>\n",
       "      <td>0.002944</td>\n",
       "      <td>1.000000</td>\n",
       "    </tr>\n",
       "  </tbody>\n",
       "</table>\n",
       "</div>"
      ],
      "text/plain": [
       "                     age        fnlwgt  education-num  capital-gain  \\\n",
       "age             1.000000  5.874589e-03       0.001334  6.033328e-03   \n",
       "fnlwgt          0.005875  1.000000e+00       0.001866  1.865253e-07   \n",
       "education-num   0.001334  1.865776e-03       1.000000  1.503815e-02   \n",
       "capital-gain    0.006033  1.865253e-07       0.015038  1.000000e+00   \n",
       "capital-loss    0.003338  1.050976e-04       0.006388  9.995122e-04   \n",
       "hours-per-week  0.004727  3.522562e-04       0.021940  6.147911e-03   \n",
       "\n",
       "                capital-loss  hours-per-week  \n",
       "age                 0.003338        0.004727  \n",
       "fnlwgt              0.000105        0.000352  \n",
       "education-num       0.006388        0.021940  \n",
       "capital-gain        0.001000        0.006148  \n",
       "capital-loss        1.000000        0.002944  \n",
       "hours-per-week      0.002944        1.000000  "
      ]
     },
     "execution_count": 19,
     "metadata": {},
     "output_type": "execute_result"
    }
   ],
   "source": [
    "ds_reg=pd.DataFrame()\n",
    "for i in range(len(num_cols)):\n",
    "    x=np.array(ds[num_cols[i]]).reshape(-1, 1)\n",
    "    ds_reg[num_cols[i]]=[LinearRegression(normalize=True).fit(x,ds[y]).score(x,ds[y]) for y in num_cols]\n",
    "ds_reg.index=num_cols\n",
    "ds_reg"
   ]
  },
  {
   "cell_type": "code",
   "execution_count": 20,
   "metadata": {
    "ExecuteTime": {
     "end_time": "2020-09-15T12:56:18.620245Z",
     "start_time": "2020-09-15T12:56:18.315228Z"
    }
   },
   "outputs": [
    {
     "data": {
      "text/plain": [
       "<matplotlib.axes._subplots.AxesSubplot at 0xb8ff048>"
      ]
     },
     "execution_count": 20,
     "metadata": {},
     "output_type": "execute_result"
    },
    {
     "data": {
      "image/png": "[encoded data removed]",
      "text/plain": [
       "<Figure size 432x288 with 2 Axes>"
      ]
     },
     "metadata": {
      "needs_background": "light"
     },
     "output_type": "display_data"
    }
   ],
   "source": [
    "sns.heatmap(ds_reg, xticklabels=ds_reg.columns, yticklabels=ds_reg.columns, cmap=sns.diverging_palette(220, 10, as_cmap=True))"
   ]
  },
  {
   "cell_type": "code",
   "execution_count": 21,
   "metadata": {
    "ExecuteTime": {
     "end_time": "2020-09-15T12:56:18.932263Z",
     "start_time": "2020-09-15T12:56:18.622246Z"
    }
   },
   "outputs": [
    {
     "name": "stdout",
     "output_type": "stream",
     "text": [
      "age 0.0189563802541447\n",
      "fnlwgt 0.007710614506635794\n",
      "education-num 0.04184274968099355\n",
      "capital-gain 0.02600776713688535\n",
      "capital-loss 0.013286928854379432\n",
      "hours-per-week 0.030925037420690416\n"
     ]
    }
   ],
   "source": [
    "\n",
    "\n",
    "for c in num_cols:\n",
    "    x=ds[num_cols].drop(c, axis=1)\n",
    "    y=ds[c]\n",
    "    lm=LinearRegression().fit(x,y)\n",
    "    print(c,lm.score(x,y))"
   ]
  },
  {
   "cell_type": "code",
   "execution_count": null,
   "metadata": {},
   "outputs": [],
   "source": []
  }
 ],
 "metadata": {
  "kernelspec": {
   "display_name": "Python 3 (ipykernel)",
   "language": "python",
   "name": "python3"
  },
  "language_info": {
   "codemirror_mode": {
    "name": "ipython",
    "version": 3
   },
   "file_extension": ".py",
   "mimetype": "text/x-python",
   "name": "python",
   "nbconvert_exporter": "python",
   "pygments_lexer": "ipython3",
   "version": "3.9.13"
  },
  "toc": {
   "base_numbering": 1,
   "nav_menu": {},
   "number_sections": true,
   "sideBar": true,
   "skip_h1_title": false,
   "title_cell": "Table of Contents",
   "title_sidebar": "Contents",
   "toc_cell": false,
   "toc_position": {
    "height": "calc(100% - 180px)",
    "left": "10px",
    "top": "150px",
    "width": "364px"
   },
   "toc_section_display": true,
   "toc_window_display": true
  },
  "varInspector": {
   "cols": {
    "lenName": 16,
    "lenType": 16,
    "lenVar": 40
   },
   "kernels_config": {
    "python": {
     "delete_cmd_postfix": "",
     "delete_cmd_prefix": "del ",
     "library": "var_list.py",
     "varRefreshCmd": "print(var_dic_list())"
    },
    "r": {
     "delete_cmd_postfix": ") ",
     "delete_cmd_prefix": "rm(",
     "library": "var_list.r",
     "varRefreshCmd": "cat(var_dic_list()) "
    }
   },
   "types_to_exclude": [
    "module",
    "function",
    "builtin_function_or_method",
    "instance",
    "_Feature"
   ],
   "window_display": false
  }
 },
 "nbformat": 4,
 "nbformat_minor": 2
}
